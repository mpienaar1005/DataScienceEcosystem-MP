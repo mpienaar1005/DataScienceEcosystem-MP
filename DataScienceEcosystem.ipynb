{
 "cells": [
  {
   "cell_type": "markdown",
   "id": "38742dfa-3719-4418-be75-3f5364a4ee86",
   "metadata": {},
   "source": [
    "# Data Science Tools and Ecosystem"
   ]
  },
  {
   "cell_type": "markdown",
   "id": "4ac2b71a-e94a-4d6e-ba52-8079164e4e79",
   "metadata": {},
   "source": [
    "In this notebook, Data Science Tools and Ecosystem are summarized."
   ]
  },
  {
   "cell_type": "markdown",
   "id": "1cc81a29-d1d9-43cc-9be2-46545687d80d",
   "metadata": {
    "tags": []
   },
   "source": [
    "**Objectives:**\n",
    "+ Some of the popular languages that Data Scientists use are:\n",
    "+ Some of the commonly used libraries used by Data Scientists include:\n",
    "+ This a simple arithmetic expression to mutiply then add integers"
   ]
  },
  {
   "cell_type": "markdown",
   "id": "2ece063d-90dc-46a9-bdb6-ee35a45ebc6a",
   "metadata": {},
   "source": [
    "Some of the popular languages that Data Scientists use are:\n",
    "1. python\n",
    "2. R\n",
    "3. SQL"
   ]
  },
  {
   "cell_type": "markdown",
   "id": "7ed1330d-3250-49ee-bd2d-88c2dcd6d809",
   "metadata": {},
   "source": [
    "Some of the commonly used libraries used by Data Scientists include:\n",
    "1. NumPy\n",
    "2. Pandas\n",
    "3. SciPy"
   ]
  },
  {
   "cell_type": "markdown",
   "id": "7a37a65a-853f-47b5-bdeb-407546bb6a17",
   "metadata": {},
   "source": [
    "|Data Science Tools    |\n",
    "|----------------------|\n",
    "|RStudio               |\n",
    "|Jupyter Notebook      |\n",
    "|Visual Studio         |"
   ]
  },
  {
   "cell_type": "markdown",
   "id": "fdc5f1df-4e35-4c4f-ac22-9e8c810d7fd9",
   "metadata": {},
   "source": [
    "### Below are a few examples of evaluating arithmetic expressions in Python\n",
    "1. addition + \n",
    "2. subtraction - \n",
    "3. multiplication * \n",
    "4. division /"
   ]
  },
  {
   "cell_type": "markdown",
   "id": "766202f6-d00a-469c-af42-65783ed24758",
   "metadata": {},
   "source": [
    "This a simple arithmetic expression to mutiply then add integers"
   ]
  },
  {
   "cell_type": "code",
   "execution_count": 2,
   "id": "bfb254c2-26a1-4078-bef1-be668415f6a3",
   "metadata": {
    "tags": []
   },
   "outputs": [
    {
     "data": {
      "text/plain": [
       "17"
      ]
     },
     "execution_count": 2,
     "metadata": {},
     "output_type": "execute_result"
    }
   ],
   "source": [
    "(3*4)+5"
   ]
  },
  {
   "cell_type": "markdown",
   "id": "7b032a03-6296-42e6-a195-cf0c793f72f3",
   "metadata": {},
   "source": [
    "This will convert 200 minutes to hours by diving by 60"
   ]
  },
  {
   "cell_type": "code",
   "execution_count": 3,
   "id": "20c79b4f-e63b-49b1-b7da-630e39524a1a",
   "metadata": {
    "tags": []
   },
   "outputs": [
    {
     "data": {
      "text/plain": [
       "3.3333333333333335"
      ]
     },
     "execution_count": 3,
     "metadata": {},
     "output_type": "execute_result"
    }
   ],
   "source": [
    "200/60"
   ]
  },
  {
   "cell_type": "markdown",
   "id": "be62fe16-d510-4626-b55b-74bda39b393f",
   "metadata": {},
   "source": [
    "## Author\n",
    "Marius Pienaar"
   ]
  },
  {
   "cell_type": "code",
   "execution_count": null,
   "id": "bf6e359b-6deb-41e4-9a7d-75e9786fc15c",
   "metadata": {},
   "outputs": [],
   "source": []
  }
 ],
 "metadata": {
  "kernelspec": {
   "display_name": "Python",
   "language": "python",
   "name": "conda-env-python-py"
  },
  "language_info": {
   "codemirror_mode": {
    "name": "ipython",
    "version": 3
   },
   "file_extension": ".py",
   "mimetype": "text/x-python",
   "name": "python",
   "nbconvert_exporter": "python",
   "pygments_lexer": "ipython3",
   "version": "3.7.12"
  }
 },
 "nbformat": 4,
 "nbformat_minor": 5
}
